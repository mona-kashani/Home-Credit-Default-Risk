{
 "cells": [
  {
   "cell_type": "code",
   "execution_count": 8,
   "metadata": {
    "colab": {
     "base_uri": "https://localhost:8080/",
     "height": 139
    },
    "colab_type": "code",
    "id": "pQ-iYZkuOCKh",
    "outputId": "ba15ec08-d0a3-49be-b5f7-4958937af436"
   },
   "outputs": [],
   "source": [
    "import numpy as np\n",
    "import pandas as pd\n",
    "import seaborn as sns\n",
    "import gc\n",
    "\n",
    "\n",
    "from sklearn.linear_model import LogisticRegression\n",
    "from sklearn.neighbors import KNeighborsClassifier\n",
    "from sklearn.naive_bayes import GaussianNB \n",
    "from sklearn.ensemble import RandomForestClassifier\n",
    "from xgboost import XGBClassifier\n",
    "from sklearn.tree import DecisionTreeClassifier\n",
    "from sklearn.svm import SVC\n",
    "from lightgbm import LGBMClassifier\n",
    "from sklearn.metrics import roc_auc_score, roc_curve\n",
    "\n",
    "\n",
    "\n",
    "from sklearn.model_selection import KFold, StratifiedKFold\n",
    "from sklearn.utils import resample\n",
    "from sklearn.preprocessing import LabelEncoder\n",
    "from imblearn.over_sampling import SMOTE\n",
    "lb_make = LabelEncoder()\n"
   ]
  },
  {
   "cell_type": "code",
   "execution_count": 14,
   "metadata": {
    "colab": {},
    "colab_type": "code",
    "id": "BlcEv02uWBtl"
   },
   "outputs": [],
   "source": [
    "def process_train_test_file():\n",
    "\n",
    "    df = pd.read_csv('application_train.csv')\n",
    "    test_df = pd.read_csv('application_test.csv')\n",
    "    print(\"Train samples: {}, test samples: {}\".format(len(df), len(test_df)))\n",
    "\n",
    "    df = df.append(test_df).reset_index()\n",
    "    df = df[df['CODE_GENDER'] != 'XNA']\n",
    "\n",
    "    target = df['TARGET']\n",
    "    df = df.drop(['TARGET'],axis=1)\n",
    "\n",
    "    Dict = {'reg oper account':0 ,'org spec account':1 , 'reg oper spec account': 2, 'not specified':3}\n",
    "    df.FONDKAPREMONT_MODE = df.FONDKAPREMONT_MODE.map(Dict)\n",
    "    df['FONDKAPREMONT_MODE'] = df['FONDKAPREMONT_MODE'].fillna(df['FONDKAPREMONT_MODE'].value_counts().index[0])\n",
    "\n",
    "    Dict = {'Stone':0 ,'brick':1 , 'Block': 2, 'Panel':3, 'Mixed':4, 'Wooden':5, 'Others':6}\n",
    "    df.WALLSMATERIAL_MODE = df.WALLSMATERIAL_MODE.map(Dict)\n",
    "    df['WALLSMATERIAL_MODE'] = df['WALLSMATERIAL_MODE'].fillna(df['WALLSMATERIAL_MODE'].value_counts().index[0])\n",
    "\n",
    "    Dict = {'block of flats':0 ,'terraced house':1 , 'specific housing': 2}\n",
    "    df.HOUSETYPE_MODE = df.HOUSETYPE_MODE.map(Dict)\n",
    "    df['HOUSETYPE_MODE'] = df['HOUSETYPE_MODE'].fillna(df['HOUSETYPE_MODE'].value_counts().index[0])\n",
    "\n",
    "    Dict = {'No':0 ,'Yes':1 }\n",
    "    df.EMERGENCYSTATE_MODE = df.EMERGENCYSTATE_MODE.map(Dict)\n",
    "    df['EMERGENCYSTATE_MODE'] = df['EMERGENCYSTATE_MODE'].fillna(df['EMERGENCYSTATE_MODE'].value_counts().index[0])\n",
    "\n",
    "    Dict = {'Cash loans':0 ,'Revolving loans':1 }\n",
    "    df.NAME_CONTRACT_TYPE = df.NAME_CONTRACT_TYPE.map(Dict)\n",
    "\n",
    "    Dict = {'M':0 ,'F':1}\n",
    "    df.CODE_GENDER = df.CODE_GENDER.map(Dict)\n",
    "    df['CODE_GENDER'] = df['CODE_GENDER'].fillna(df['CODE_GENDER'].value_counts().index[0])\n",
    "\n",
    "    Dict = {'N':0 ,'Y':1}\n",
    "    df.FLAG_OWN_CAR = df.FLAG_OWN_CAR.map(Dict)\n",
    "\n",
    "    Dict = {'N':0 ,'Y':1}\n",
    "    df.FLAG_OWN_REALTY = df.FLAG_OWN_REALTY.map(Dict)\n",
    "\n",
    "    Dict = {'Unaccompanied':0 ,'Family':1, 'Spouse':2, 'partner':3, 'Children':4, 'Other_A':5, 'Other_B':6, 'Group of people':7 }\n",
    "    df.NAME_TYPE_SUITE = df.NAME_TYPE_SUITE.map(Dict)\n",
    "    df['NAME_TYPE_SUITE'] = df['NAME_TYPE_SUITE'].fillna(df['NAME_TYPE_SUITE'].value_counts().index[0])\n",
    "\n",
    "    Dict = {'Working':0 ,'State servant':1, 'Commercial associate':2, 'Pensioner':3, 'Unemployed':4, 'Student':5, 'Businessman':6, 'Maternity leave':7 }\n",
    "    df.NAME_INCOME_TYPE = df.NAME_INCOME_TYPE.map(Dict)\n",
    "\n",
    "    Dict = {'Secondary / secondary special':0 ,'Higher education':1, 'Incomplete higher':2, 'Lower secondary':3, 'Academic degree':4 }\n",
    "    df.NAME_EDUCATION_TYPE = df.NAME_EDUCATION_TYPE.map(Dict)\n",
    "\n",
    "    Dict = {'Single / not married':0 ,'Married':1, 'Civil marriage':2, 'Widow':3, 'Separated':4 }\n",
    "    df.NAME_FAMILY_STATUS = df.NAME_FAMILY_STATUS.map(Dict)\n",
    "    df['NAME_FAMILY_STATUS'] = df['NAME_FAMILY_STATUS'].fillna(df['NAME_FAMILY_STATUS'].value_counts().index[0])\n",
    "\n",
    "    Dict = {'House / apartment':0 ,'Rented apartment':1, 'With parents':2, 'Municipal apartment':3, 'Office apartment':4, 'Co-op apartment':5 }\n",
    "    df.NAME_HOUSING_TYPE = df.NAME_HOUSING_TYPE.map(Dict)\n",
    "\n",
    "    Dict = {'Laborers':0 ,'Core staff':1, 'Accountants':2, 'Managers':3, 'Drivers':4, 'Sales staff':5, 'Cleaning staff':6, 'Cooking staff':7, 'Private service staff':8, 'Medicine staff':9, 'Security staff':10, 'High skill tech staff':11, 'Waiters/barmen staff':12, 'Low-skill Laborers':13, 'Realty agents':14, 'Secretaries':15, 'IT staff':16, 'HR staff':17 }\n",
    "    df.OCCUPATION_TYPE = df.OCCUPATION_TYPE.map(Dict)\n",
    "    df['OCCUPATION_TYPE'] = df['OCCUPATION_TYPE'].fillna(df['OCCUPATION_TYPE'].value_counts().index[0])\n",
    "\n",
    "    Dict = {'WEDNESDAY':0 ,'MONDAY':1, 'THURSDAY':2, 'SUNDAY':3, 'SATURDAY':4, 'FRIDAY':5, 'TUESDAY':6 }\n",
    "    df.WEEKDAY_APPR_PROCESS_START = df.WEEKDAY_APPR_PROCESS_START.map(Dict)\n",
    "\n",
    "    df[\"ORGANIZATION_TYPE\"] = lb_make.fit_transform(df[\"ORGANIZATION_TYPE\"])\n",
    "\n",
    "    df['DAYS_EMPLOYED'].replace(365243, np.nan, inplace= True)\n",
    "\n",
    "    df = df.fillna(df.mean())\n",
    "    df['TARGET'] = target\n",
    "    df['DAYS_EMPLOYED_PERC'] = df['DAYS_EMPLOYED'] / df['DAYS_BIRTH']\n",
    "    df['INCOME_CREDIT_PERC'] = df['AMT_INCOME_TOTAL'] / df['AMT_CREDIT']\n",
    "    df['INCOME_PER_PERSON'] = df['AMT_INCOME_TOTAL'] / df['CNT_FAM_MEMBERS']\n",
    "    df['ANNUITY_INCOME_PERC'] = df['AMT_ANNUITY'] / df['AMT_INCOME_TOTAL']\n",
    "    df['PAYMENT_RATE'] = df['AMT_ANNUITY'] / df['AMT_CREDIT']\n",
    "    del test_df\n",
    "    gc.collect()\n",
    "    return df"
   ]
  },
  {
   "cell_type": "code",
   "execution_count": 15,
   "metadata": {
    "colab": {},
    "colab_type": "code",
    "id": "BfPhmF5yG7Mw"
   },
   "outputs": [],
   "source": [
    "def process_bureau_balance_file():\n",
    "    bureau = pd.read_csv('bureau.csv')\n",
    "    bb = pd.read_csv('bureau_balance.csv')\n",
    "    bb, bb_cat = one_hot_encoder(bb)\n",
    "    bureau, bureau_cat = one_hot_encoder(bureau)\n",
    "    \n",
    "\n",
    "    bb_aggregations = {'MONTHS_BALANCE': ['min', 'max', 'size']}\n",
    "    for col in bb_cat:\n",
    "        bb_aggregations[col] = ['mean']\n",
    "    bb_agg = bb.groupby('SK_ID_BUREAU').agg(bb_aggregations)\n",
    "    bb_agg.columns = pd.Index([e[0] + \"_\" + e[1].upper() for e in bb_agg.columns.tolist()])\n",
    "    bureau = bureau.join(bb_agg, how='left', on='SK_ID_BUREAU')\n",
    "    bureau.drop(['SK_ID_BUREAU'], axis=1, inplace= True)\n",
    "    del bb, bb_agg\n",
    "    gc.collect()\n",
    "    \n",
    "\n",
    "    num_aggregations = {\n",
    "        'DAYS_CREDIT': ['min', 'max', 'mean', 'var'],\n",
    "        'DAYS_CREDIT_ENDDATE': ['min', 'max', 'mean'],\n",
    "        'DAYS_CREDIT_UPDATE': ['mean'],\n",
    "        'CREDIT_DAY_OVERDUE': ['max', 'mean'],\n",
    "        'AMT_CREDIT_MAX_OVERDUE': ['mean'],\n",
    "        'AMT_CREDIT_SUM': ['max', 'mean', 'sum'],\n",
    "        'AMT_CREDIT_SUM_DEBT': ['max', 'mean', 'sum'],\n",
    "        'AMT_CREDIT_SUM_OVERDUE': ['mean'],\n",
    "        'AMT_CREDIT_SUM_LIMIT': ['mean', 'sum'],\n",
    "        'AMT_ANNUITY': ['max', 'mean'],\n",
    "        'CNT_CREDIT_PROLONG': ['sum'],\n",
    "        'MONTHS_BALANCE_MIN': ['min'],\n",
    "        'MONTHS_BALANCE_MAX': ['max'],\n",
    "        'MONTHS_BALANCE_SIZE': ['mean', 'sum']\n",
    "    }\n",
    "\n",
    "    cat_aggregations = {}\n",
    "    for cat in bureau_cat: cat_aggregations[cat] = ['mean']\n",
    "    for cat in bb_cat: cat_aggregations[cat + \"_MEAN\"] = ['mean']\n",
    "    \n",
    "    bureau_agg = bureau.groupby('SK_ID_CURR').agg({**num_aggregations, **cat_aggregations})\n",
    "    bureau_agg.columns = pd.Index(['BURO_' + e[0] + \"_\" + e[1].upper() for e in bureau_agg.columns.tolist()])\n",
    "\n",
    "    active = bureau[bureau['CREDIT_ACTIVE_Active'] == 1]\n",
    "    active_agg = active.groupby('SK_ID_CURR').agg(num_aggregations)\n",
    "    active_agg.columns = pd.Index(['ACTIVE_' + e[0] + \"_\" + e[1].upper() for e in active_agg.columns.tolist()])\n",
    "    bureau_agg = bureau_agg.join(active_agg, how='left', on='SK_ID_CURR')\n",
    "    del active, active_agg\n",
    "    gc.collect()\n",
    "\n",
    "    closed = bureau[bureau['CREDIT_ACTIVE_Closed'] == 1]\n",
    "    closed_agg = closed.groupby('SK_ID_CURR').agg(num_aggregations)\n",
    "    closed_agg.columns = pd.Index(['CLOSED_' + e[0] + \"_\" + e[1].upper() for e in closed_agg.columns.tolist()])\n",
    "    bureau_agg = bureau_agg.join(closed_agg, how='left', on='SK_ID_CURR')\n",
    "    del closed, closed_agg, bureau\n",
    "    gc.collect()\n",
    "    return bureau_agg\n"
   ]
  },
  {
   "cell_type": "code",
   "execution_count": 16,
   "metadata": {
    "colab": {},
    "colab_type": "code",
    "id": "AWjlB0LjHINI"
   },
   "outputs": [],
   "source": [
    "def one_hot_encoder(df):\n",
    "    original_columns = list(df.columns)\n",
    "    categorical_columns = [col for col in df.columns if df[col].dtype == 'object']\n",
    "    df = pd.get_dummies(df, columns= categorical_columns)\n",
    "    new_columns = [c for c in df.columns if c not in original_columns]\n",
    "    return df, new_columns"
   ]
  },
  {
   "cell_type": "code",
   "execution_count": 17,
   "metadata": {
    "colab": {},
    "colab_type": "code",
    "id": "Kb_A60GrHyVu"
   },
   "outputs": [],
   "source": [
    "def kfold_lightgbm(df, num_folds, submission_file_name, stratified = False):\n",
    "\n",
    "    train_df = df[df['TARGET'].notnull()]\n",
    "\n",
    "\n",
    "    nums = train_df['TARGET'].value_counts()\n",
    "    train_0 = train_df[train_df['TARGET']==0]\n",
    "    train_1 = train_df[train_df['TARGET']==1]\n",
    "\n",
    "    train_1_balanced = resample(train_1, \n",
    "                                 replace=True,    \n",
    "                                 n_samples=nums.loc[0]-10000,    \n",
    "                                 random_state=123) \n",
    "\n",
    "    train_df = pd.concat([train_0, train_1_balanced])\n",
    "    train_df = train_df.sample(frac=1).reset_index(drop=True)\n",
    "    test_df = df[df['TARGET'].isnull()]\n",
    "    print(\"Start LightGBM...\")\n",
    "    del df\n",
    "    gc.collect()\n",
    "\n",
    "    if stratified:\n",
    "        folds = StratifiedKFold(n_splits= num_folds, shuffle=True, random_state=1001)\n",
    "    else:\n",
    "        folds = KFold(n_splits= num_folds, shuffle=True, random_state=1001)\n",
    "\n",
    "    oof_preds = np.zeros(train_df.shape[0])\n",
    "    sub_preds = np.zeros(test_df.shape[0])\n",
    "\n",
    "    feats = [f for f in train_df.columns if f not in ['TARGET','SK_ID_CURR','SK_ID_BUREAU','SK_ID_PREV','index']]\n",
    "    \n",
    "    for n_fold, (train_idx, valid_idx) in enumerate(folds.split(train_df[feats], train_df['TARGET'])):\n",
    "        train_x, train_y = train_df[feats].iloc[train_idx], train_df['TARGET'].iloc[train_idx]\n",
    "        valid_x, valid_y = train_df[feats].iloc[valid_idx], train_df['TARGET'].iloc[valid_idx]\n",
    "\n",
    "        clf = LGBMClassifier(\n",
    "            nthread=4,\n",
    "            n_estimators=900,\n",
    "            learning_rate=0.03)\n",
    "\n",
    "        clf.fit(train_x, train_y, eval_set=[(train_x, train_y), (valid_x, valid_y)], \n",
    "            eval_metric= 'auc', verbose= 200, early_stopping_rounds= 200)\n",
    "\n",
    "        oof_preds[valid_idx] = clf.predict_proba(valid_x, num_iteration=clf.best_iteration_)[:, 1]\n",
    "        sub_preds += clf.predict_proba(test_df[feats], num_iteration=clf.best_iteration_)[:, 1] / folds.n_splits\n",
    "\n",
    "        print('Fold %2d AUC : %.6f' % (n_fold + 1, roc_auc_score(valid_y, oof_preds[valid_idx])))\n",
    "        del clf, train_x, train_y, valid_x, valid_y\n",
    "        gc.collect()\n",
    "\n",
    "    print('Full AUC score %.6f' % roc_auc_score(train_df['TARGET'], oof_preds))\n",
    "\n",
    "    test_df['TARGET'] = sub_preds\n",
    "    test_df[['SK_ID_CURR', 'TARGET']].to_csv(submission_file_name, index= False)\n"
   ]
  },
  {
   "cell_type": "code",
   "execution_count": 18,
   "metadata": {
    "colab": {
     "base_uri": "https://localhost:8080/",
     "height": 68
    },
    "colab_type": "code",
    "id": "T_uVInF-H1_A",
    "outputId": "2e4abb6b-4607-47a0-ff7c-9e17b8af7233"
   },
   "outputs": [
    {
     "name": "stdout",
     "output_type": "stream",
     "text": [
      "Train samples: 307511, test samples: 48744\n"
     ]
    },
    {
     "name": "stderr",
     "output_type": "stream",
     "text": [
      "C:\\Users\\Asus\\Anaconda3\\lib\\site-packages\\pandas\\core\\frame.py:7138: FutureWarning: Sorting because non-concatenation axis is not aligned. A future version\n",
      "of pandas will change to not sort by default.\n",
      "\n",
      "To accept the future behavior, pass 'sort=False'.\n",
      "\n",
      "To retain the current behavior and silence the warning, pass 'sort=True'.\n",
      "\n",
      "  sort=sort,\n"
     ]
    },
    {
     "name": "stdout",
     "output_type": "stream",
     "text": [
      "Bureau df shape: (305811, 112)\n"
     ]
    },
    {
     "data": {
      "text/plain": [
       "0"
      ]
     },
     "execution_count": 18,
     "metadata": {},
     "output_type": "execute_result"
    }
   ],
   "source": [
    "\n",
    "df = process_train_test_file()\n",
    "bureau = process_bureau_balance_file()\n",
    "print(\"Bureau df shape:\", bureau.shape)\n",
    "df = df.join(bureau, how='left', on='SK_ID_CURR')\n",
    "del bureau\n",
    "gc.collect()\n",
    "\n",
    "# "
   ]
  },
  {
   "cell_type": "code",
   "execution_count": 19,
   "metadata": {
    "colab": {
     "base_uri": "https://localhost:8080/",
     "height": 34
    },
    "colab_type": "code",
    "id": "wKc2ucAN2F5x",
    "outputId": "d3d1f27e-923b-42b9-bf25-17cf7c3c4019"
   },
   "outputs": [
    {
     "data": {
      "text/plain": [
       "(356251, 240)"
      ]
     },
     "execution_count": 19,
     "metadata": {},
     "output_type": "execute_result"
    }
   ],
   "source": [
    "df.shape\n"
   ]
  },
  {
   "cell_type": "code",
   "execution_count": null,
   "metadata": {
    "colab": {},
    "colab_type": "code",
    "id": "S3ZqdfY79Pdk"
   },
   "outputs": [],
   "source": [
    "df=df.fillna(df.mean())"
   ]
  },
  {
   "cell_type": "code",
   "execution_count": 21,
   "metadata": {
    "colab": {},
    "colab_type": "code",
    "id": "WZij13bb8PH6"
   },
   "outputs": [
    {
     "name": "stdout",
     "output_type": "stream",
     "text": [
      "**** Enter your choice ****\n",
      "      1- Logistic Regressor\n",
      "      2- K-Neighbors\n",
      "      3- Naive Basie\n",
      "      4- Random Forest\n",
      "      5- Decision Tree Classifier\n",
      "      6- XGBClassifier\n",
      "      7- SVM\n",
      "      8- LightGBM  \n",
      "Enter your number: 8\n",
      "Start LightGBM...\n",
      "Training until validation scores don't improve for 200 rounds\n",
      "[200]\ttraining's auc: 0.793294\ttraining's binary_logloss: 0.555083\tvalid_1's auc: 0.788957\tvalid_1's binary_logloss: 0.55864\n",
      "[400]\ttraining's auc: 0.819665\ttraining's binary_logloss: 0.527352\tvalid_1's auc: 0.811334\tvalid_1's binary_logloss: 0.534954\n",
      "[600]\ttraining's auc: 0.839064\ttraining's binary_logloss: 0.507349\tvalid_1's auc: 0.827697\tvalid_1's binary_logloss: 0.518103\n",
      "[800]\ttraining's auc: 0.85589\ttraining's binary_logloss: 0.489261\tvalid_1's auc: 0.841979\tvalid_1's binary_logloss: 0.502861\n",
      "Did not meet early stopping. Best iteration is:\n",
      "[900]\ttraining's auc: 0.863353\ttraining's binary_logloss: 0.481026\tvalid_1's auc: 0.848275\tvalid_1's binary_logloss: 0.49597\n",
      "Fold  1 AUC : 0.848275\n",
      "Training until validation scores don't improve for 200 rounds\n",
      "[200]\ttraining's auc: 0.793862\ttraining's binary_logloss: 0.554511\tvalid_1's auc: 0.788861\tvalid_1's binary_logloss: 0.559041\n",
      "[400]\ttraining's auc: 0.820339\ttraining's binary_logloss: 0.526615\tvalid_1's auc: 0.811002\tvalid_1's binary_logloss: 0.535498\n",
      "[600]\ttraining's auc: 0.839527\ttraining's binary_logloss: 0.506755\tvalid_1's auc: 0.826956\tvalid_1's binary_logloss: 0.518984\n",
      "[800]\ttraining's auc: 0.855725\ttraining's binary_logloss: 0.489331\tvalid_1's auc: 0.840599\tvalid_1's binary_logloss: 0.504389\n",
      "Did not meet early stopping. Best iteration is:\n",
      "[900]\ttraining's auc: 0.862882\ttraining's binary_logloss: 0.481386\tvalid_1's auc: 0.846688\tvalid_1's binary_logloss: 0.497696\n",
      "Fold  2 AUC : 0.846688\n",
      "Training until validation scores don't improve for 200 rounds\n",
      "[200]\ttraining's auc: 0.79366\ttraining's binary_logloss: 0.554463\tvalid_1's auc: 0.787542\tvalid_1's binary_logloss: 0.559757\n",
      "[400]\ttraining's auc: 0.819684\ttraining's binary_logloss: 0.527055\tvalid_1's auc: 0.809941\tvalid_1's binary_logloss: 0.536198\n",
      "[600]\ttraining's auc: 0.838911\ttraining's binary_logloss: 0.506995\tvalid_1's auc: 0.826275\tvalid_1's binary_logloss: 0.519221\n",
      "[800]\ttraining's auc: 0.855362\ttraining's binary_logloss: 0.489384\tvalid_1's auc: 0.840173\tvalid_1's binary_logloss: 0.504442\n",
      "Did not meet early stopping. Best iteration is:\n",
      "[900]\ttraining's auc: 0.862815\ttraining's binary_logloss: 0.481114\tvalid_1's auc: 0.846555\tvalid_1's binary_logloss: 0.497464\n",
      "Fold  3 AUC : 0.846555\n",
      "Full AUC score 0.847163\n"
     ]
    },
    {
     "name": "stderr",
     "output_type": "stream",
     "text": [
      "C:\\Users\\Asus\\Anaconda3\\lib\\site-packages\\ipykernel_launcher.py:53: SettingWithCopyWarning: \n",
      "A value is trying to be set on a copy of a slice from a DataFrame.\n",
      "Try using .loc[row_indexer,col_indexer] = value instead\n",
      "\n",
      "See the caveats in the documentation: http://pandas.pydata.org/pandas-docs/stable/user_guide/indexing.html#returning-a-view-versus-a-copy\n"
     ]
    }
   ],
   "source": [
    "print('**** Enter your choice ****\\n      1- Logistic Regressor\\n      2- K-Neighbors\\n      3- Naive Basie\\n      4- Random Forest\\n      5- Decision Tree Classifier\\n      6- XGBClassifier\\n      7- SVM\\n      8- LightGBM  ')\n",
    "algorithm = int(input('Enter your number: '))-1\n",
    "\n",
    "\n",
    "algorithm_list = [('LogisticRegressor' , LogisticRegression(solver='liblinear')) , \n",
    "                  ('KNeighbors' , KNeighborsClassifier()), \n",
    "                  ('GaussianNB' , GaussianNB()),\n",
    "                  ('RandomForest' , RandomForestClassifier(n_estimators=200)),\n",
    "                  ('DecisionTreeClassifier' , DecisionTreeClassifier(random_state=0, max_depth=3, min_samples_split=5)),\n",
    "                  ('XGBClassifier' , XGBClassifier()),\n",
    "                  ('SVM' , SVC(kernel='linear', class_weight='balanced', probability=True)),\n",
    "                  ('LightGBM' , 'S')]\n",
    "\n",
    "if algorithm is 7:\n",
    "  kfold_lightgbm(df, num_folds= 3, stratified= False,submission_file_name = algorithm_list[algorithm] [0] )\n",
    "else:  \n",
    "  target = df['TARGET']\n",
    "  target = pd.DataFrame(target.dropna())\n",
    "  train_df = df[df['TARGET'].notnull()]\n",
    "  train_df.drop(['TARGET'],axis=1,inplace=True)\n",
    "  train_df = train_df.fillna(train_df.mean())\n",
    "\n",
    "  test_df = df[df['TARGET'].isnull()]\n",
    "  test_df.drop(['TARGET'],axis=1,inplace=True)\n",
    "  test_df = test_df.fillna(test_df.mean())\n",
    "  algorithm_ = algorithm_list[algorithm] [1]   \n",
    "  algorithm_.fit(train_df,target)\n",
    "  y_pred = algorithm_.predict_proba(test_df)\n",
    "\n",
    "  submission = test_df[['SK_ID_CURR']]\n",
    "  submission['TARGET'] = y_pred[:,1]\n",
    "\n",
    "  submission.to_csv(algorithm_list[algorithm] [0]+'.csv' ,index=False)\n",
    "\n"
   ]
  },
  {
   "cell_type": "code",
   "execution_count": null,
   "metadata": {
    "colab": {},
    "colab_type": "code",
    "id": "oRY7bb183XHN"
   },
   "outputs": [],
   "source": []
  }
 ],
 "metadata": {
  "colab": {
   "collapsed_sections": [],
   "name": "Mona_Kashani.ipynb",
   "provenance": []
  },
  "kernelspec": {
   "display_name": "Python 3",
   "language": "python",
   "name": "python3"
  },
  "language_info": {
   "codemirror_mode": {
    "name": "ipython",
    "version": 3
   },
   "file_extension": ".py",
   "mimetype": "text/x-python",
   "name": "python",
   "nbconvert_exporter": "python",
   "pygments_lexer": "ipython3",
   "version": "3.7.3"
  }
 },
 "nbformat": 4,
 "nbformat_minor": 1
}
